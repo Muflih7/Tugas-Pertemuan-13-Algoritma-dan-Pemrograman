{
  "nbformat": 4,
  "nbformat_minor": 0,
  "metadata": {
    "colab": {
      "name": "TugasPertemuan13",
      "provenance": [],
      "collapsed_sections": [],
      "authorship_tag": "ABX9TyN/RkUO906TCiNp0XTIYpIL",
      "include_colab_link": true
    },
    "kernelspec": {
      "name": "python3",
      "display_name": "Python 3"
    },
    "language_info": {
      "name": "python"
    }
  },
  "cells": [
    {
      "cell_type": "markdown",
      "metadata": {
        "id": "view-in-github",
        "colab_type": "text"
      },
      "source": [
        "<a href=\"https://colab.research.google.com/github/Muflih7/Tugas-Pertemuan-13-Algoritma-dan-Pemrograman/blob/main/TugasPertemuan13.ipynb\" target=\"_parent\"><img src=\"https://colab.research.google.com/assets/colab-badge.svg\" alt=\"Open In Colab\"/></a>"
      ]
    },
    {
      "cell_type": "code",
      "execution_count": null,
      "metadata": {
        "colab": {
          "base_uri": "https://localhost:8080/"
        },
        "id": "yTXRLTZ0xRqY",
        "outputId": "9a101715-72d4-4e68-aff9-1bab3328f970"
      },
      "outputs": [
        {
          "output_type": "stream",
          "name": "stdout",
          "text": [
            "Nama Barang =pulpen\n",
            "Harga Satuan =Rp.3000\n",
            "Jumlah Barang =3\n",
            "Total Harga Barang Rp. 9000\n"
          ]
        }
      ],
      "source": [
        "nama_brg = input(\"Nama Barang =\")\n",
        "hrg_satuan = eval(input(\"Harga Satuan =Rp.\"))\n",
        "jum_brg = eval(input(\"Jumlah Barang =\"))\n",
        "hrg_beli = hrg_satuan * jum_brg\n",
        "total_hrg = hrg_beli\n",
        "print(\"Total Harga Barang Rp.\",total_hrg)\n"
      ]
    },
    {
      "cell_type": "code",
      "source": [
        "x = int(input(\"Masukkan Bilangan = \"))\n",
        "print(\"n adalah bilangan\", \"Genap\" if (x % 2 == 0) else \"Ganjil\")"
      ],
      "metadata": {
        "colab": {
          "base_uri": "https://localhost:8080/"
        },
        "id": "6SnHvHSeB-3c",
        "outputId": "8c5b3506-58b6-4bbf-fbf1-025d65ae6086"
      },
      "execution_count": null,
      "outputs": [
        {
          "output_type": "stream",
          "name": "stdout",
          "text": [
            "Masukkan Bilangan = 4\n",
            "x adalah bilangan Genap\n"
          ]
        }
      ]
    },
    {
      "cell_type": "code",
      "source": [
        "awal = int(input(\"Awal =\"))\n",
        "akhir = int(input(\"Akhir =\"))\n",
        "print(\"Bilangan diantara %d dan %d\"%(awal,akhir))\n",
        "for i in range(awal,akhir,3):\n",
        "  print(i, end = '')"
      ],
      "metadata": {
        "colab": {
          "base_uri": "https://localhost:8080/"
        },
        "id": "jNO4yDgWRWM-",
        "outputId": "f4c5829a-5ba4-4feb-c9b6-88fb1e147df4"
      },
      "execution_count": null,
      "outputs": [
        {
          "output_type": "stream",
          "name": "stdout",
          "text": [
            "Awal =0\n",
            "Akhir =63\n",
            "Bilangan diantara 0 dan 63\n",
            "03691215182124273033363942454851545760"
          ]
        }
      ]
    },
    {
      "cell_type": "code",
      "source": [
        "bil = int(input(\"Input Bilangan =\"))\n",
        "for i in range(1,bil+1):\n",
        "  for j in range(1,bil+1):\n",
        "    if i==j:\n",
        "      print(i,end=' ')\n",
        "    else:\n",
        "      print(end=' ')\n",
        "print()"
      ],
      "metadata": {
        "colab": {
          "base_uri": "https://localhost:8080/"
        },
        "id": "Ee8nrqucWcTX",
        "outputId": "eb49349d-8216-4b20-8825-355e883ad2ca"
      },
      "execution_count": null,
      "outputs": [
        {
          "output_type": "stream",
          "name": "stdout",
          "text": [
            "Input Bilangan =10\n",
            "1           2           3           4           5           6           7           8           9           10 \n"
          ]
        }
      ]
    },
    {
      "cell_type": "code",
      "source": [
        "from prettytable import PrettyTable\n",
        "nomor5 = PrettyTable(['No.','Nama Mhs', 'N.Tugas', 'N.Kuis', 'N.UTS', 'N.UAS', 'N.Akhir'])\n",
        "nomor5.add_row(['1','Edi Saputra','90','89','88','87','86'])\n",
        "nomor5.add_row(['2','Amil Sidik','92','91','90','89','88'])\n",
        "print(nomor5)"
      ],
      "metadata": {
        "colab": {
          "base_uri": "https://localhost:8080/"
        },
        "id": "LLHF_7WXhjqY",
        "outputId": "54e1ad40-9526-4d0e-889e-c137d60eb4d3"
      },
      "execution_count": null,
      "outputs": [
        {
          "output_type": "stream",
          "name": "stdout",
          "text": [
            "+-----+-------------+---------+--------+-------+-------+---------+\n",
            "| No. |   Nama Mhs  | N.Tugas | N.Kuis | N.UTS | N.UAS | N.Akhir |\n",
            "+-----+-------------+---------+--------+-------+-------+---------+\n",
            "|  1  | Edi Saputra |    90   |   89   |   88  |   87  |    86   |\n",
            "|  2  |  Amil Sidik |    92   |   91   |   90  |   89  |    88   |\n",
            "+-----+-------------+---------+--------+-------+-------+---------+\n"
          ]
        }
      ]
    },
    {
      "cell_type": "code",
      "source": [
        "mat1 = [\n",
        "        [3,0],\n",
        "        [2,3],\n",
        "]\n",
        "mat2 = [\n",
        "        [1,4],\n",
        "        [5,2],\n",
        "]\n",
        "for x in range(0, len(mat1)):\n",
        "  for y in range(0, len(mat1[0])):\n",
        "    print (mat1[x][y]+mat2[x][y], end=' '),\n",
        "print"
      ],
      "metadata": {
        "colab": {
          "base_uri": "https://localhost:8080/"
        },
        "id": "WOGH3WK4vEbg",
        "outputId": "8beab0e3-51fc-4920-8624-8ab4cea6cb12"
      },
      "execution_count": 3,
      "outputs": [
        {
          "output_type": "stream",
          "name": "stdout",
          "text": [
            "4 4 7 5 "
          ]
        },
        {
          "output_type": "execute_result",
          "data": {
            "text/plain": [
              "<function print>"
            ]
          },
          "metadata": {},
          "execution_count": 3
        }
      ]
    }
  ]
}